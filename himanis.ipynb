{
 "cells": [
  {
   "cell_type": "code",
   "execution_count": null,
   "id": "a6ee7746",
   "metadata": {},
   "outputs": [],
   "source": [
    "import pandas as pd\n",
    "import numpy as np\n",
    "import math\n",
    "from bs4 import BeautifulSoup"
   ]
  },
  {
   "cell_type": "code",
   "execution_count": null,
   "id": "8bb9a2cb",
   "metadata": {},
   "outputs": [],
   "source": [
    "# fonction qui nettoie  les actes\n",
    "def clean_actes(element_in):\n",
    "    acte = str(element_in)\n",
    "    soup = BeautifulSoup(acte.replace(\"\\n\", \" \"))\n",
    "    element_out = soup.get_text().replace(\"\\xa0\", \" \")\n",
    "    return(element_out)"
   ]
  },
  {
   "cell_type": "code",
   "execution_count": null,
   "id": "3aba329f",
   "metadata": {},
   "outputs": [],
   "source": [
    "df = pd.read_csv('himanis.csv')\n",
    "df"
   ]
  },
  {
   "cell_type": "code",
   "execution_count": null,
   "id": "6ff78ba6",
   "metadata": {},
   "outputs": [],
   "source": [
    "liste_transcriptions = list(df.loc[:, 'Transcription'])"
   ]
  },
  {
   "cell_type": "code",
   "execution_count": null,
   "id": "2d4ad23b",
   "metadata": {},
   "outputs": [],
   "source": [
    "len(liste_transcriptions)"
   ]
  },
  {
   "cell_type": "code",
   "execution_count": null,
   "id": "81b436b3",
   "metadata": {},
   "outputs": [],
   "source": [
    "liste_transcriptions[0:10]"
   ]
  },
  {
   "cell_type": "code",
   "execution_count": null,
   "id": "75d57f37",
   "metadata": {},
   "outputs": [],
   "source": [
    "list_clean_acts = []\n",
    "\n",
    "for transcription in liste_transcriptions :\n",
    "    clean_act = clean_actes(transcription)\n",
    "    list_clean_acts.append(clean_act)"
   ]
  },
  {
   "cell_type": "code",
   "execution_count": null,
   "id": "10abb81c",
   "metadata": {},
   "outputs": [],
   "source": [
    "prima_lista_minor = []\n",
    "for i in list_clean_acts[0:100]:\n",
    "    prima_lista_minor.append(i)\n",
    "first_list_clean_acts = []\n",
    "\n",
    "for transcription in prima_lista_minor :\n",
    "    clean_act = clean_actes(transcription)\n",
    "    first_list_clean_acts.append(clean_act)"
   ]
  },
  {
   "cell_type": "code",
   "execution_count": null,
   "id": "c0b03219",
   "metadata": {},
   "outputs": [],
   "source": [
    "len(list_clean_acts)"
   ]
  },
  {
   "cell_type": "code",
   "execution_count": null,
   "id": "814d53f3",
   "metadata": {},
   "outputs": [],
   "source": [
    "len(prima_lista_minor)"
   ]
  },
  {
   "cell_type": "code",
   "execution_count": null,
   "id": "82e4b90d",
   "metadata": {},
   "outputs": [],
   "source": [
    "print(\" les 100 premiers actes nettoyés \\n:\")\n",
    "list_clean_acts[0:100]"
   ]
  },
  {
   "cell_type": "code",
   "execution_count": null,
   "id": "44577707",
   "metadata": {},
   "outputs": [],
   "source": [
    "print(\" les 100 premiers actes nettoyés \\n:\")\n",
    "prima_lista_minor[0:100]"
   ]
  },
  {
   "cell_type": "code",
   "execution_count": null,
   "id": "71adbcd2",
   "metadata": {},
   "outputs": [],
   "source": [
    "#on supprime tous les éléments de la liste qui contiennet moins de quinze caractères \n",
    "list_clean_acts = [x for x in list_clean_acts if len(x) >= 15]"
   ]
  },
  {
   "cell_type": "code",
   "execution_count": null,
   "id": "2cd9ec6d",
   "metadata": {},
   "outputs": [],
   "source": [
    "#on supprime tous les éléments de la liste qui contiennet moins de quinze caractères \n",
    "prima_lista_minor = [y for y in prima_lista_minor if len(y) >= 15]"
   ]
  },
  {
   "cell_type": "code",
   "execution_count": null,
   "id": "dec8ee26",
   "metadata": {},
   "outputs": [],
   "source": [
    "# on avait compté 38839 après le nettoyage\n",
    "len(list_clean_acts)"
   ]
  },
  {
   "cell_type": "code",
   "execution_count": null,
   "id": "493be1f2",
   "metadata": {},
   "outputs": [],
   "source": [
    "with open( ('totum-corpum-himanis.txt'), 'w', encoding = 'UTF-8') as file_out :\n",
    "    for act in list_clean_acts :\n",
    "        file_out.write(act + \"\\n\")"
   ]
  },
  {
   "cell_type": "code",
   "execution_count": null,
   "id": "f0e58179",
   "metadata": {},
   "outputs": [],
   "source": [
    "with open( ('primum_corpum_himanis.txt'), 'w', encoding = 'UTF-8') as fout :\n",
    "    for act in prima_lista_minor :\n",
    "        fout.write(act + \"\\n\")"
   ]
  }
 ],
 "metadata": {
  "kernelspec": {
   "display_name": "Python 3 (ipykernel)",
   "language": "python",
   "name": "python3"
  },
  "language_info": {
   "codemirror_mode": {
    "name": "ipython",
    "version": 3
   },
   "file_extension": ".py",
   "mimetype": "text/x-python",
   "name": "python",
   "nbconvert_exporter": "python",
   "pygments_lexer": "ipython3",
   "version": "3.9.13"
  }
 },
 "nbformat": 4,
 "nbformat_minor": 5
}
