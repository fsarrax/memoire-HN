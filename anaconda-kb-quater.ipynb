{
 "cells": [
  {
   "cell_type": "code",
   "execution_count": null,
   "id": "0051ee30",
   "metadata": {},
   "outputs": [],
   "source": [
    "# ce notebook est une adaptation du notebook : https://github.com/explosion/projects/blob/master/nel-emerson/scripts/notebook_video.ipynb"
   ]
  },
  {
   "cell_type": "code",
   "execution_count": null,
   "id": "cbb57035-03c6-492f-bdbb-23fd7fff4e8d",
   "metadata": {
    "tags": []
   },
   "outputs": [],
   "source": [
    "import csv\n",
    "from pathlib import Path\n",
    "import json\n",
    "import random\n",
    "import spacy\n",
    "from spacy.kb import KnowledgeBase\n",
    "from spacy.util import minibatch, compounding\n",
    "from collections import Counter\n",
    "import os"
   ]
  },
  {
   "cell_type": "code",
   "execution_count": null,
   "id": "70403e89-f6be-4257-9082-5fb092167b71",
   "metadata": {
    "tags": []
   },
   "outputs": [],
   "source": [
    "nlp = spacy.load(\"en_core_web_lg\")\n",
    "text = \"Tennis champion Emerson was expected to win Wimbledon.\"\n",
    "doc = nlp(text)\n",
    "for ent in doc.ents:\n",
    "    print(f\"Named Entity '{ent.text}' with label '{ent.label_}'\")"
   ]
  },
  {
   "cell_type": "code",
   "execution_count": null,
   "id": "8a60f285-296c-40ea-bbc9-9e29edb6c003",
   "metadata": {
    "tags": []
   },
   "outputs": [],
   "source": [
    "fichier = \"files.txt\"\n",
    "\n",
    "with open(fichier, 'r') as fichier:\n",
    "        lignes = fichier.readlines()"
   ]
  },
  {
   "cell_type": "code",
   "execution_count": null,
   "id": "81538f4e-8676-49c6-bd2d-083af9e90293",
   "metadata": {
    "tags": []
   },
   "outputs": [],
   "source": [
    "lignes"
   ]
  },
  {
   "cell_type": "code",
   "execution_count": null,
   "id": "f54a8ab8-55f6-4467-bd64-ac209ea6099b",
   "metadata": {
    "tags": []
   },
   "outputs": [],
   "source": [
    "len(lignes)"
   ]
  },
  {
   "cell_type": "code",
   "execution_count": null,
   "id": "58dc1ce9-93b5-4ce0-a7cc-c9ba16827e11",
   "metadata": {
    "tags": []
   },
   "outputs": [],
   "source": [
    "def load_entities():\n",
    "    entities_loc = Path.cwd() / \"new-entities-ter.csv\"  \n",
    "\n",
    "    names = dict()\n",
    "    descriptions = dict()\n",
    "    with entities_loc.open(\"r\", encoding=\"utf8\") as csvfile:\n",
    "        csvreader = csv.reader(csvfile, delimiter=\",\")\n",
    "        for row in csvreader:\n",
    "            qid = row[0]\n",
    "            name = row[1]\n",
    "            desc = row[2]\n",
    "            names[qid] = name\n",
    "            descriptions[qid] = desc\n",
    "    return names, descriptions"
   ]
  },
  {
   "cell_type": "code",
   "execution_count": null,
   "id": "aabfcff3-9488-46b8-8c6d-f79592197bb0",
   "metadata": {
    "tags": []
   },
   "outputs": [],
   "source": [
    "name_dict, desc_dict = load_entities()\n",
    "for QID in name_dict.keys():\n",
    "    print(f\"{QID}, name={name_dict[QID]}, desc={desc_dict[QID]}\")"
   ]
  },
  {
   "cell_type": "code",
   "execution_count": null,
   "id": "4072b9dd-6690-4765-880d-3e3b48851c59",
   "metadata": {
    "tags": []
   },
   "outputs": [],
   "source": [
    "kb = KnowledgeBase(vocab=nlp.vocab, entity_vector_length=300)"
   ]
  },
  {
   "cell_type": "code",
   "execution_count": null,
   "id": "47a031f8-fc43-4594-b717-835b239c1920",
   "metadata": {
    "tags": []
   },
   "outputs": [],
   "source": [
    "for qid, desc in desc_dict.items():\n",
    "    desc_doc = nlp(desc)\n",
    "    desc_enc = desc_doc.vector\n",
    "    kb.add_entity(entity=qid, entity_vector=desc_enc, freq=342)   "
   ]
  },
  {
   "cell_type": "code",
   "execution_count": null,
   "id": "a61819d3-d758-4a7a-8afa-6de17bab47c1",
   "metadata": {
    "tags": []
   },
   "outputs": [],
   "source": [
    "for qid, name in name_dict.items():\n",
    "    kb.add_alias(alias=name, entities=[qid], probabilities=[1])   "
   ]
  },
  {
   "cell_type": "code",
   "execution_count": null,
   "id": "12482fb0-4059-4697-93f4-b14771b73b2b",
   "metadata": {
    "tags": []
   },
   "outputs": [],
   "source": [
    "qids = name_dict.keys()\n",
    "probs = [0.16 for qid in qids]\n",
    "kb.add_alias(alias=\"Felpes\", entities=qids, probabilities=probs)  "
   ]
  },
  {
   "cell_type": "code",
   "execution_count": null,
   "id": "6af1eb27-85bb-496f-8a58-5f743696e8bf",
   "metadata": {
    "tags": []
   },
   "outputs": [],
   "source": [
    "qids = name_dict.keys()\n",
    "probs = [0.16 for qid in qids]\n",
    "kb.add_alias(alias=\"James\", entities=qids, probabilities=probs)  "
   ]
  },
  {
   "cell_type": "code",
   "execution_count": null,
   "id": "41a06e66-6d34-4e33-83f9-8cb159be7bd9",
   "metadata": {
    "tags": []
   },
   "outputs": [],
   "source": [
    "print(f\"Entities in the KB: {kb.get_entity_strings()}\")\n",
    "print(f\"Aliases in the KB: {kb.get_alias_strings()}\")"
   ]
  },
  {
   "cell_type": "code",
   "execution_count": null,
   "id": "7b4a1400-e867-4349-bf08-24b6057e732b",
   "metadata": {
    "tags": []
   },
   "outputs": [],
   "source": [
    "gold_ids = []\n",
    "for text, annot in lignes:\n",
    "    for span, links_dict in annot[\"links\"].items():\n",
    "        for link, value in links_dict.items():\n",
    "            if value:\n",
    "                gold_ids.append(link)\n",
    "\n",
    "from collections import Counter\n",
    "print(Counter(gold_ids))"
   ]
  },
  {
   "cell_type": "code",
   "execution_count": null,
   "id": "3071946c-f84c-4c27-8391-c15168e2e13b",
   "metadata": {
    "tags": []
   },
   "outputs": [],
   "source": [
    "dataset_tutorial = [\n",
    "(\"James and Felpes share a deep passion for football\",{\"links\":{(0,5):{\"Q54321\": 1.0}},\"links\":{(10,16):{\"Q12345\": 1.0}}}),\n",
    "(\"James and Felpes have a long debate about war\",{\"links\":{(0,5):{\"Q54321\": 1.0}},\"links\":{(10,16):{\"Q12345\": 1.0}}}),\n",
    "(\"James and Felpes disagre on climate change\",{\"links\":{(0,5):{\"Q54321\": 1.0}},\"links\":{(10,16):{\"Q12345\": 1.0}}}),\n",
    "(\"James and Felpes love each other\",{\"links\":{(0,5):{\"Q67890\": 1.0}},\"links\":{(10,16):{\"Q24680\": 1.0}}}),\n",
    "(\"James and Felpes share a deep affection\",{\"links\":{(0,5):{\"Q67890\": 1.0}},\"links\":{(10,16):{\"Q24680\": 1.0}}}),\n",
    "(\"James and Felpes cherish every moment together\",{\"links\":{(0,5):{\"Q67890\": 1.0}},\"links\":{(10,16):{\"Q24680\": 1.0}}}),\n",
    "(\"James and Felpes are two biologists\",{\"links\":{(0,5):{\"Q13579\": 1.0}},\"links\":{(10,16):{\"Q98765\": 1.0}}}),\n",
    "(\"James and Felpes are renowned biologists in neurosciences\",{\"links\":{(0,5):{\"Q13579\": 1.0}},\"links\":{(10,16):{\"Q98765\": 1.0}}}),\n",
    "(\"James and Felpes study the biodiversity of marine ecosystems\",{\"links\":{(0,5):{\"Q13579\": 1.0}},\"links\":{(10,16):{\"Q98765\": 1.0}}})\n",
    "]"
   ]
  },
  {
   "cell_type": "code",
   "execution_count": null,
   "id": "e9509359-aa0d-403d-9026-450dec40f79f",
   "metadata": {
    "tags": []
   },
   "outputs": [],
   "source": [
    "print(type(dataset_tutorial), \n",
    "      type(dataset_tutorial[0]), \n",
    "      type(dataset_tutorial[0][0]), \n",
    "      type(dataset_tutorial[0][1])\n",
    "     )"
   ]
  },
  {
   "cell_type": "code",
   "execution_count": null,
   "id": "bc01e3a3-d08a-44f6-878f-b78792fd591a",
   "metadata": {
    "tags": []
   },
   "outputs": [],
   "source": [
    "print(type(dataset_tutorial), \n",
    "      dataset_tutorial[0], \n",
    "      type(dataset_tutorial[0]), \n",
    "      type(dataset_tutorial[0][0]), \n",
    "      type(dataset_tutorial[0][1])\n",
    "     )"
   ]
  },
  {
   "cell_type": "code",
   "execution_count": null,
   "id": "772d50be-6682-4118-aded-9bdec398a7dc",
   "metadata": {
    "tags": []
   },
   "outputs": [],
   "source": [
    "def load_entities():\n",
    "    entities_loc = Path.cwd() / \"new-entities-ter.csv\"  \n",
    "\n",
    "    names = dict()\n",
    "    descriptions = dict()\n",
    "    with entities_loc.open(\"r\", encoding=\"utf8\") as csvfile:\n",
    "        csvreader = csv.reader(csvfile, delimiter=\",\")\n",
    "        for row in csvreader:\n",
    "            qid = row[0]\n",
    "            name = row[1]\n",
    "            desc = row[2]\n",
    "            names[qid] = name\n",
    "            descriptions[qid] = desc\n",
    "    return names, descriptions"
   ]
  },
  {
   "cell_type": "code",
   "execution_count": null,
   "id": "77e04a9e-a068-4a88-9fb6-3d3a3396be5c",
   "metadata": {
    "tags": []
   },
   "outputs": [],
   "source": [
    "name_dict, desc_dict = load_entities()\n",
    "for QID in name_dict.keys():\n",
    "    print(f\"{QID}, name={name_dict[QID]}, desc={desc_dict[QID]}\")"
   ]
  },
  {
   "cell_type": "code",
   "execution_count": null,
   "id": "b9e53cf9-64f8-478a-b6b9-40562667e190",
   "metadata": {
    "tags": []
   },
   "outputs": [],
   "source": [
    "kb = KnowledgeBase(vocab=nlp.vocab, entity_vector_length=300)"
   ]
  },
  {
   "cell_type": "code",
   "execution_count": null,
   "id": "5c34560e-323f-4026-8744-2914d851b094",
   "metadata": {
    "tags": []
   },
   "outputs": [],
   "source": [
    "for qid, desc in desc_dict.items():\n",
    "    desc_doc = nlp(desc)\n",
    "    desc_enc = desc_doc.vector\n",
    "    kb.add_entity(entity=qid, entity_vector=desc_enc, freq=342)  "
   ]
  },
  {
   "cell_type": "code",
   "execution_count": null,
   "id": "028cee34-6583-4e34-bcc3-24b8f3786aa2",
   "metadata": {
    "tags": []
   },
   "outputs": [],
   "source": [
    "for qid, name in name_dict.items():\n",
    "    kb.add_alias(alias=name, entities=[qid], probabilities=[1])  "
   ]
  },
  {
   "cell_type": "code",
   "execution_count": null,
   "id": "4f4b7d1b-51a3-4eba-b58a-8fd14ba4bc72",
   "metadata": {
    "tags": []
   },
   "outputs": [],
   "source": [
    "qids = name_dict.keys()\n",
    "probs = [0.16 for qid in qids]\n",
    "kb.add_alias(alias=\"Felpes\", entities=qids, probabilities=probs)  "
   ]
  },
  {
   "cell_type": "code",
   "execution_count": null,
   "id": "acbf0d43-9b84-4b84-8cfc-e5b4a457eea8",
   "metadata": {
    "tags": []
   },
   "outputs": [],
   "source": [
    "qids = name_dict.keys()\n",
    "probs = [0.16 for qid in qids]\n",
    "kb.add_alias(alias=\"James\", entities=qids, probabilities=probs)  "
   ]
  },
  {
   "cell_type": "code",
   "execution_count": null,
   "id": "5ccdede8-7460-4b26-aa8a-7ca066776da6",
   "metadata": {
    "tags": []
   },
   "outputs": [],
   "source": [
    "print(f\"Entities in the KB: {kb.get_entity_strings()}\")\n",
    "print(f\"Aliases in the KB: {kb.get_alias_strings()}\")"
   ]
  },
  {
   "cell_type": "code",
   "execution_count": null,
   "id": "9002e429-6044-476b-9869-857275028911",
   "metadata": {
    "tags": []
   },
   "outputs": [],
   "source": [
    "gold_ids = []\n",
    "\n",
    "for text, annot in dataset_tutorial:\n",
    "    print(\"text: \", text)\n",
    "    print(\"Anno: \", type(annot), annot)\n",
    "    for span, links_dict in annot[\"links\"].items():\n",
    "        print(\"span : \", span, \"; links_dict : \", links_dict)\n",
    "        for link, value in links_dict.items():\n",
    "            print(\"link : \", link, \" ; value : \", value)\n",
    "            if value:\n",
    "                gold_ids.append(link)\n",
    "\n",
    "from collections import Counter\n",
    "print(Counter(gold_ids))"
   ]
  },
  {
   "cell_type": "code",
   "execution_count": null,
   "id": "bd05c624-a98a-4ab2-af34-92608064835c",
   "metadata": {
    "tags": []
   },
   "outputs": [],
   "source": [
    "train_dataset = []\n",
    "test_dataset = []\n",
    "for QID in qids:\n",
    "    indices = [i for i, j in enumerate(gold_ids) if j == QID]\n",
    "    train_dataset.extend(dataset_tutorial[index] for index in indices[0:8])  \n",
    "    test_dataset.extend(dataset_tutorial[index] for index in indices[8:10])  \n",
    "    \n",
    "random.shuffle(train_dataset)\n",
    "random.shuffle(test_dataset)"
   ]
  },
  {
   "cell_type": "code",
   "execution_count": null,
   "id": "db71dbdc-f447-4aac-bae7-fe618d9503be",
   "metadata": {
    "tags": []
   },
   "outputs": [],
   "source": [
    "TRAIN_DOCS = []\n",
    "for text, annotation in train_dataset:\n",
    "    doc = nlp(text)     \n",
    "    TRAIN_DOCS.append((doc, annotation))"
   ]
  },
  {
   "cell_type": "code",
   "execution_count": null,
   "id": "a8c40e37-eb0b-4662-81e4-a1956ee20e47",
   "metadata": {
    "tags": []
   },
   "outputs": [],
   "source": [
    "entity_linker = nlp.create_pipe(\"entity_linker\", config={\"incl_prior\": False})\n",
    "entity_linker.set_kb(kb)\n",
    "nlp.add_pipe(entity_linker, last=True)"
   ]
  },
  {
   "cell_type": "code",
   "execution_count": null,
   "id": "105524a0-4e35-4a07-b29b-d91ae25344f8",
   "metadata": {
    "tags": []
   },
   "outputs": [],
   "source": [
    "other_pipes = [pipe for pipe in nlp.pipe_names if pipe != \"entity_linker\"]\n",
    "with nlp.disable_pipes(*other_pipes):  \n",
    "    optimizer = nlp.begin_training()\n",
    "    for itn in range(500):   \n",
    "        random.shuffle(TRAIN_DOCS)\n",
    "        batches = minibatch(TRAIN_DOCS, size=compounding(4.0, 32.0, 1.001))  \n",
    "        losses = {}\n",
    "        for batch in batches:\n",
    "            texts, annotations = zip(*batch)\n",
    "            nlp.update(\n",
    "                texts,  \n",
    "                annotations,   \n",
    "                drop=0.2,     \n",
    "                losses=losses,\n",
    "                sgd=optimizer,\n",
    "            )\n",
    "        if itn % 50 == 0:\n",
    "            print(itn, \"Losses\", losses)   \n",
    "print(itn, \"Losses\", losses)"
   ]
  },
  {
   "cell_type": "code",
   "execution_count": null,
   "id": "ca13d1bb-8e05-46fb-aeaf-a5bc10680d69",
   "metadata": {
    "tags": []
   },
   "outputs": [],
   "source": [
    "for text, true_annot in test_dataset:\n",
    "    print(text)\n",
    "    print(f\"Gold annotation: {true_annot}\")\n",
    "    doc = nlp(text)  \n",
    "    for ent in doc.ents:\n",
    "        if ent.text == \"James\":\n",
    "            print(f\"Prediction: {ent.text}, {ent.label_}, {ent.kb_id_}\")\n",
    "    print()"
   ]
  },
  {
   "cell_type": "code",
   "execution_count": null,
   "id": "6168ec1c-b48b-46e4-803d-ce6c8c283f5e",
   "metadata": {
    "tags": []
   },
   "outputs": [],
   "source": [
    "for text, true_annot in test_dataset:\n",
    "    print(text)\n",
    "    print(f\"Gold annotation: {true_annot}\")\n",
    "    doc = nlp(text)  \n",
    "    for ent in doc.ents:\n",
    "        if ent.text == \"Felpes\":\n",
    "            print(f\"Prediction: {ent.text}, {ent.label_}, {ent.kb_id_}\")\n",
    "    print()"
   ]
  },
  {
   "cell_type": "code",
   "execution_count": null,
   "id": "d5c74d98-2a44-45e0-bc50-a34308ef46a8",
   "metadata": {},
   "outputs": [],
   "source": []
  }
 ],
 "metadata": {
  "kernelspec": {
   "display_name": "Python 3 (ipykernel)",
   "language": "python",
   "name": "python3"
  },
  "language_info": {
   "codemirror_mode": {
    "name": "ipython",
    "version": 3
   },
   "file_extension": ".py",
   "mimetype": "text/x-python",
   "name": "python",
   "nbconvert_exporter": "python",
   "pygments_lexer": "ipython3",
   "version": "3.8.17"
  }
 },
 "nbformat": 4,
 "nbformat_minor": 5
}
