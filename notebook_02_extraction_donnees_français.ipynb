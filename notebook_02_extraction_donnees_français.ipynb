{
 "cells": [
  {
   "cell_type": "code",
   "execution_count": null,
   "id": "66156809",
   "metadata": {},
   "outputs": [],
   "source": [
    "import pandas as pd, re"
   ]
  },
  {
   "cell_type": "code",
   "execution_count": null,
   "id": "e6365471",
   "metadata": {},
   "outputs": [],
   "source": [
    "data = pd.read_excel(\"//.xlsx\")\n",
    "# nous n'avons pas le droit de publier les données du stage"
   ]
  },
  {
   "cell_type": "code",
   "execution_count": null,
   "id": "ee314106",
   "metadata": {},
   "outputs": [],
   "source": [
    "data"
   ]
  },
  {
   "cell_type": "code",
   "execution_count": null,
   "id": "365e1f97",
   "metadata": {},
   "outputs": [],
   "source": [
    "for idx,column in enumerate(data.columns):\n",
    "     print(idx,column)"
   ]
  },
  {
   "cell_type": "code",
   "execution_count": null,
   "id": "cdf91eac",
   "metadata": {},
   "outputs": [],
   "source": [
    "j = ''\n",
    "texte = ''\n",
    "\n",
    "for i in range(len(data['Word_x'])) :\n",
    "    j = data['Word_x'][i]\n",
    "    texte = texte + ' ' + j"
   ]
  },
  {
   "cell_type": "code",
   "execution_count": null,
   "id": "fa18a7b8",
   "metadata": {},
   "outputs": [],
   "source": [
    "texte"
   ]
  },
  {
   "cell_type": "code",
   "execution_count": null,
   "id": "8c6eccd8",
   "metadata": {},
   "outputs": [],
   "source": [
    "corpus_fr = texte.replace('|','')\n",
    "corpus_fr"
   ]
  },
  {
   "cell_type": "code",
   "execution_count": null,
   "id": "f498a0c5",
   "metadata": {},
   "outputs": [],
   "source": []
  }
 ],
 "metadata": {
  "kernelspec": {
   "display_name": "Python 3 (ipykernel)",
   "language": "python",
   "name": "python3"
  },
  "language_info": {
   "codemirror_mode": {
    "name": "ipython",
    "version": 3
   },
   "file_extension": ".py",
   "mimetype": "text/x-python",
   "name": "python",
   "nbconvert_exporter": "python",
   "pygments_lexer": "ipython3",
   "version": "3.9.16"
  }
 },
 "nbformat": 4,
 "nbformat_minor": 5
}
