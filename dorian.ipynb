{
 "cells": [
  {
   "cell_type": "code",
   "execution_count": null,
   "id": "ec55bdfb",
   "metadata": {},
   "outputs": [],
   "source": [
    "# ce notebook est une adaptation du notebook : https://github.com/explosion/projects/blob/master/nel-emerson/scripts/notebook_video.ipynb"
   ]
  },
  {
   "cell_type": "code",
   "execution_count": null,
   "id": "d5a1ec35-5244-465a-8f34-46d363370537",
   "metadata": {
    "tags": []
   },
   "outputs": [],
   "source": [
    "import spacy\n",
    "import csv\n",
    "from pathlib import Path\n",
    "from spacy.kb import KnowledgeBase\n",
    "import os\n",
    "import json\n",
    "import random\n",
    "from spacy.util import minibatch, compounding"
   ]
  },
  {
   "cell_type": "code",
   "execution_count": null,
   "id": "3507cbe9-deca-4875-862b-73a231c2ac29",
   "metadata": {
    "tags": []
   },
   "outputs": [],
   "source": [
    "texte = \"\"\n",
    "with open((\"dorian.txt\"), \"r\", encoding = \"UTF-8\") as fin :\n",
    "    texte = texte.join(line.rstrip(\"\\n\") + \" \" for line in fin.readlines())"
   ]
  },
  {
   "cell_type": "code",
   "execution_count": null,
   "id": "2d2fa8c9-c0c4-43f1-af87-a8c444dca65e",
   "metadata": {
    "tags": []
   },
   "outputs": [],
   "source": [
    "nlp = spacy.load(\"en_core_web_lg\")\n",
    "doc = nlp(texte)"
   ]
  },
  {
   "cell_type": "code",
   "execution_count": null,
   "id": "c04e69e6-b5e0-4ab9-8dfe-90f882c5dd4b",
   "metadata": {
    "tags": []
   },
   "outputs": [],
   "source": [
    "def load_entities():\n",
    "    entities_loc = Path.cwd() / \"entities-dorian.csv\"  \n",
    "    names = dict()\n",
    "    descriptions = dict()\n",
    "    with entities_loc.open(\"r\", encoding=\"utf8\") as csvfile:\n",
    "        csvreader = csv.reader(csvfile, delimiter=\",\")\n",
    "        for row in csvreader:\n",
    "            qid = row[0]\n",
    "            name = row[1]\n",
    "            desc = row[2]\n",
    "            names[qid] = name\n",
    "            descriptions[qid] = desc\n",
    "    return names, descriptions"
   ]
  },
  {
   "cell_type": "code",
   "execution_count": null,
   "id": "0e5f1222-b5fc-4263-844b-3033b9cc7bb9",
   "metadata": {
    "tags": []
   },
   "outputs": [],
   "source": [
    "name_dict, desc_dict = load_entities()\n",
    "for QID in name_dict.keys():\n",
    "    print(f\"{QID}, name={name_dict[QID]}, desc={desc_dict[QID]}\")"
   ]
  },
  {
   "cell_type": "code",
   "execution_count": null,
   "id": "25e7f6be-0916-4006-8267-b822d60b21b0",
   "metadata": {
    "tags": []
   },
   "outputs": [],
   "source": [
    "kb = KnowledgeBase(vocab=nlp.vocab, entity_vector_length=300)"
   ]
  },
  {
   "cell_type": "code",
   "execution_count": null,
   "id": "fb970f0f-287c-46b9-983f-984077738304",
   "metadata": {
    "tags": []
   },
   "outputs": [],
   "source": [
    "for qid, desc in desc_dict.items():\n",
    "    desc_doc = nlp(desc)\n",
    "    desc_enc = desc_doc.vector\n",
    "    kb.add_entity(entity=qid, entity_vector=desc_enc, freq=342)   "
   ]
  },
  {
   "cell_type": "code",
   "execution_count": null,
   "id": "903e4a4c-0767-4ac2-8907-5e4d81c66477",
   "metadata": {
    "tags": []
   },
   "outputs": [],
   "source": [
    "for qid, name in name_dict.items():\n",
    "    kb.add_alias(alias=name, entities=[qid], probabilities=[1])   "
   ]
  },
  {
   "cell_type": "code",
   "execution_count": null,
   "id": "b2caaf08-4a62-4600-9780-b858328cc237",
   "metadata": {
    "tags": []
   },
   "outputs": [],
   "source": [
    "qids = name_dict.keys()\n",
    "probs = [0.1 for qid in qids]\n",
    "kb.add_alias(alias=\"Dorian\", entities=qids, probabilities=probs)  "
   ]
  },
  {
   "cell_type": "code",
   "execution_count": null,
   "id": "dfe2c0b3-ae9b-4a50-80e8-5d04667ad59b",
   "metadata": {
    "tags": []
   },
   "outputs": [],
   "source": [
    "print(f\"Entities in the KB: {kb.get_entity_strings()}\")\n",
    "print(f\"Aliases in the KB: {kb.get_alias_strings()}\")"
   ]
  },
  {
   "cell_type": "code",
   "execution_count": null,
   "id": "53521f5b-a7c9-44b5-b3b2-6bd5659d90fa",
   "metadata": {
    "tags": []
   },
   "outputs": [],
   "source": [
    "print(f\"Candidates for 'Lord Henry Wotton': {[c.entity_ for c in kb.get_candidates('Lord Henry Wotton')]}\")\n",
    "print(f\"Candidates for 'Sibyl Vane': {[c.entity_ for c in kb.get_candidates('Sibyl Vane')]}\")\n",
    "print(f\"Candidates for 'Victoria Wotton': {[c.entity_ for c in kb.get_candidates('Victoria Wotton')]}\")\n",
    "print(f\"Candidates for 'James Vane': {[c.entity_ for c in kb.get_candidates('James Vane')]}\")\n",
    "print(f\"Candidates for 'Wotton': {[c.entity_ for c in kb.get_candidates('Wotton')]}\")\n",
    "print(f\"Candidates for 'Vane': {[c.entity_ for c in kb.get_candidates('Vane')]}\")\n",
    "print(f\"Candidates for 'Wotton': {[c.entity_ for c in kb.get_candidates('Victoria')]}\")\n",
    "print(f\"Candidates for 'Vane': {[c.entity_ for c in kb.get_candidates('Henry')]}\")"
   ]
  },
  {
   "cell_type": "code",
   "execution_count": null,
   "id": "94a9f7aa-05e6-428f-9ff9-246cccb8a095",
   "metadata": {
    "tags": []
   },
   "outputs": [],
   "source": [
    "print(f\"Candidates for 'Basil': {[c.entity_ for c in kb.get_candidates('Basil')]}\")\n",
    "print(f\"Candidates for 'Dorian': {[c.entity_ for c in kb.get_candidates('Dorian')]}\")"
   ]
  },
  {
   "cell_type": "code",
   "execution_count": null,
   "id": "16d98aeb-024b-4a2d-91d9-a67d8dd7f6aa",
   "metadata": {
    "tags": []
   },
   "outputs": [],
   "source": [
    "json_loc = Path.cwd() / \"dorian.jsonl\" \n",
    "with json_loc.open(\"r\", encoding=\"utf8\") as jsonfile:\n",
    "    line = jsonfile.readline()\n",
    "    print(line)   "
   ]
  },
  {
   "cell_type": "code",
   "execution_count": null,
   "id": "5d86b8ba-c623-4e19-b437-e1ae02d094ea",
   "metadata": {
    "tags": []
   },
   "outputs": [],
   "source": [
    "dataset = []\n",
    "\n",
    "with json_loc.open(\"r\", encoding=\"utf8\") as jsonfile:\n",
    "    for line in jsonfile:\n",
    "        example = json.loads(line)\n",
    "        text = example[\"text\"]\n",
    "        if example[\"answer\"] == \"accept\":\n",
    "            QID = example[\"accept\"][0]\n",
    "            offset = (example[\"spans\"][0][\"start\"], example[\"spans\"][0][\"end\"])\n",
    "            links_dict = {QID: 1.0}\n",
    "        dataset.append((text, {\"links\": {offset: links_dict}}))"
   ]
  },
  {
   "cell_type": "code",
   "execution_count": null,
   "id": "25dc0535-c4db-4975-81cf-7f3b934d0d25",
   "metadata": {
    "tags": []
   },
   "outputs": [],
   "source": [
    "dataset[0]"
   ]
  },
  {
   "cell_type": "code",
   "execution_count": null,
   "id": "81afa0ff-7315-4f47-a2b8-855326136f3b",
   "metadata": {
    "tags": []
   },
   "outputs": [],
   "source": [
    "gold_ids = []\n",
    "for text, annot in dataset:\n",
    "    for span, links_dict in annot[\"links\"].items():\n",
    "        for link, value in links_dict.items():\n",
    "            if value:\n",
    "                gold_ids.append(link)\n",
    "\n",
    "from collections import Counter\n",
    "print(Counter(gold_ids))"
   ]
  },
  {
   "cell_type": "code",
   "execution_count": null,
   "id": "14a571b3-59e7-4a3a-8865-0e517f89793d",
   "metadata": {
    "tags": []
   },
   "outputs": [],
   "source": [
    "train_dataset = []\n",
    "test_dataset = []\n",
    "for QID in qids:\n",
    "    indices = [i for i, j in enumerate(gold_ids) if j == QID]\n",
    "    train_dataset.extend(dataset[index] for index in indices[0:8])  \n",
    "    test_dataset.extend(dataset[index] for index in indices[8:10])  \n",
    "    \n",
    "random.shuffle(train_dataset)\n",
    "random.shuffle(test_dataset)"
   ]
  },
  {
   "cell_type": "code",
   "execution_count": null,
   "id": "b15e436c-9d64-41c6-b13e-51327f93f611",
   "metadata": {
    "tags": []
   },
   "outputs": [],
   "source": [
    "TRAIN_DOCS = []\n",
    "for text, annotation in train_dataset:\n",
    "    doc = nlp(text)    \n",
    "    TRAIN_DOCS.append((doc, annotation))"
   ]
  },
  {
   "cell_type": "code",
   "execution_count": null,
   "id": "7e99392c-0ffd-48ad-bb95-5bb9bf1f0739",
   "metadata": {
    "tags": []
   },
   "outputs": [],
   "source": [
    "entity_linker = nlp.create_pipe(\"entity_linker\", config={\"incl_prior\": False})\n",
    "entity_linker.set_kb(kb)\n",
    "nlp.add_pipe(entity_linker, last=True)"
   ]
  },
  {
   "cell_type": "code",
   "execution_count": null,
   "id": "af0dd4a8-ab0a-43f9-9d19-86b96c9cfb91",
   "metadata": {
    "tags": []
   },
   "outputs": [],
   "source": [
    "other_pipes = [pipe for pipe in nlp.pipe_names if pipe != \"entity_linker\"]\n",
    "with nlp.disable_pipes(*other_pipes):   \n",
    "    optimizer = nlp.begin_training()\n",
    "    for itn in range(500):   \n",
    "        random.shuffle(TRAIN_DOCS)\n",
    "        batches = minibatch(TRAIN_DOCS, size=compounding(4.0, 32.0, 1.001)) \n",
    "        losses = {}\n",
    "        for batch in batches:\n",
    "            texts, annotations = zip(*batch)\n",
    "            nlp.update(\n",
    "                texts,  \n",
    "                annotations,   \n",
    "                drop=0.2,      \n",
    "                losses=losses,\n",
    "                sgd=optimizer,\n",
    "            )\n",
    "        if itn % 50 == 0:\n",
    "            print(itn, \"Losses\", losses)   \n",
    "print(itn, \"Losses\", losses)"
   ]
  },
  {
   "cell_type": "code",
   "execution_count": null,
   "id": "8497cbaf-9929-4dbd-9054-2d078e3f4e7d",
   "metadata": {},
   "outputs": [],
   "source": []
  }
 ],
 "metadata": {
  "kernelspec": {
   "display_name": "Python 3 (ipykernel)",
   "language": "python",
   "name": "python3"
  },
  "language_info": {
   "codemirror_mode": {
    "name": "ipython",
    "version": 3
   },
   "file_extension": ".py",
   "mimetype": "text/x-python",
   "name": "python",
   "nbconvert_exporter": "python",
   "pygments_lexer": "ipython3",
   "version": "3.8.17"
  }
 },
 "nbformat": 4,
 "nbformat_minor": 5
}
