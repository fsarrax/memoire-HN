{
 "cells": [
  {
   "cell_type": "code",
   "execution_count": null,
   "id": "65114794",
   "metadata": {},
   "outputs": [],
   "source": [
    "import json\n",
    "import os\n",
    "import re"
   ]
  },
  {
   "cell_type": "code",
   "execution_count": null,
   "id": "2c2790a1",
   "metadata": {},
   "outputs": [],
   "source": [
    "with open(os.path.join(\"corpus_lat.json\"), \"r\", encoding = 'utf8') as f:\n",
    "    data = json.load(f)"
   ]
  },
  {
   "cell_type": "code",
   "execution_count": null,
   "id": "8806cf82",
   "metadata": {},
   "outputs": [],
   "source": [
    "data[:100]"
   ]
  },
  {
   "cell_type": "code",
   "execution_count": null,
   "id": "5f6ae560",
   "metadata": {},
   "outputs": [],
   "source": [
    "import pie_extended"
   ]
  },
  {
   "cell_type": "code",
   "execution_count": null,
   "id": "9bfd77bf",
   "metadata": {},
   "outputs": [],
   "source": [
    "from typing import List\n",
    "from pie_extended.cli.utils import get_tagger, get_model, download\n",
    "from pie_extended.utils import Metadata, File, get_path\n",
    "from pie_extended.models.lasla.imports import get_iterator_and_processor"
   ]
  },
  {
   "cell_type": "code",
   "execution_count": null,
   "id": "228fd0bb",
   "metadata": {},
   "outputs": [],
   "source": [
    "with open('corpus_lat.txt', 'r', encoding='UTF-8') as f:\n",
    "    content = f.read()"
   ]
  },
  {
   "cell_type": "code",
   "execution_count": null,
   "id": "8152141f",
   "metadata": {},
   "outputs": [],
   "source": [
    "content"
   ]
  },
  {
   "cell_type": "code",
   "execution_count": null,
   "id": "dceaa7be",
   "metadata": {},
   "outputs": [],
   "source": [
    "# pie-extended tag lasla /Users/filipposarra/Database/Chartres_1_Paris_BnF_lat_10094/CONLL/corpus_lat.txt\n",
    "# cette commande execute dans la shell a genere un fichier sur lequel j'ai obtenu des tags"
   ]
  },
  {
   "cell_type": "code",
   "execution_count": null,
   "id": "4f8e8b12",
   "metadata": {},
   "outputs": [],
   "source": []
  }
 ],
 "metadata": {
  "kernelspec": {
   "display_name": "Python 3 (ipykernel)",
   "language": "python",
   "name": "python3"
  },
  "language_info": {
   "codemirror_mode": {
    "name": "ipython",
    "version": 3
   },
   "file_extension": ".py",
   "mimetype": "text/x-python",
   "name": "python",
   "nbconvert_exporter": "python",
   "pygments_lexer": "ipython3",
   "version": "3.7.16"
  }
 },
 "nbformat": 4,
 "nbformat_minor": 5
}
