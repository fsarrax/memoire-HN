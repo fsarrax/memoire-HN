{
 "cells": [
  {
   "cell_type": "code",
   "execution_count": 1,
   "id": "65114794",
   "metadata": {},
   "outputs": [],
   "source": [
    "import json\n",
    "import os\n",
    "import re"
   ]
  },
  {
   "cell_type": "code",
   "execution_count": 2,
   "id": "2c2790a1",
   "metadata": {},
   "outputs": [],
   "source": [
    "with open(os.path.join(\"corpus_lat.json\"), \"r\", encoding = 'utf8') as f:\n",
    "    data = json.load(f)"
   ]
  },
  {
   "cell_type": "code",
   "execution_count": 3,
   "id": "8806cf82",
   "metadata": {},
   "outputs": [
    {
     "data": {
      "text/plain": [
       "'  Gaufridus , Carnotensis ecclesie decanus , et universitas Capituli omnibus ad quos littere iste pe'"
      ]
     },
     "execution_count": 3,
     "metadata": {},
     "output_type": "execute_result"
    }
   ],
   "source": [
    "data[:100]"
   ]
  },
  {
   "cell_type": "code",
   "execution_count": 4,
   "id": "5f6ae560",
   "metadata": {},
   "outputs": [],
   "source": [
    "import pie_extended"
   ]
  },
  {
   "cell_type": "code",
   "execution_count": 5,
   "id": "9bfd77bf",
   "metadata": {},
   "outputs": [
    {
     "name": "stderr",
     "output_type": "stream",
     "text": [
      "fatal: not a git repository (or any of the parent directories): .git\n",
      "/Users/filipposarra/opt/anaconda3/envs/python3716/lib/python3.7/site-packages/tqdm/auto.py:22: TqdmWarning: IProgress not found. Please update jupyter and ipywidgets. See https://ipywidgets.readthedocs.io/en/stable/user_install.html\n",
      "  from .autonotebook import tqdm as notebook_tqdm\n"
     ]
    }
   ],
   "source": [
    "from typing import List\n",
    "from pie_extended.cli.utils import get_tagger, get_model, download\n",
    "from pie_extended.utils import Metadata, File, get_path\n",
    "from pie_extended.models.lasla.imports import get_iterator_and_processor"
   ]
  },
  {
   "cell_type": "code",
   "execution_count": 6,
   "id": "228fd0bb",
   "metadata": {},
   "outputs": [],
   "source": [
    "with open('corpus_lat.txt', 'r', encoding='UTF-8') as f:\n",
    "    content = f.read()"
   ]
  },
  {
   "cell_type": "code",
   "execution_count": 7,
   "id": "8152141f",
   "metadata": {},
   "outputs": [
    {
     "data": {
      "text/plain": [
       "'Gaufridus , Carnotensis ecclesie decanus , et universitas Capituli omnibus ad quos littere iste pervenerint , in Domino salutem . Quum , intereuntibus singulis , humane actiones cito traduntur oblivioni nisi litteris annotate memorie commendentur , litteris nostris annotare curavimus quod Ansoldus Tracorteis venit in capitulum nostrum , postulans a nobis sibi dari ad censum duos agripennos et dimidium terre apud Rachinetum , que de jure ecclesie nostre esse cognoscitur ; que terra partim sacionalis erat , partim vineis consita ; quam terram Godefridus , noster quondam concanonicus , ex dono Capituli tenuerat . Nos vero , habito consilio , ex communi assensu fratrum , terram illam predicto Ansoldo dedimus ad censum , et jure hereditario possidendam concessimus , eo tenore quod predictus Ansoldus et quicumque post eum terram illam tenuerit , xxx solidos ecclesie nostre , in festo sancti Remigii , annuatim reddere teneatur . Nummi autem hujus censive distribuentur canonicis qui anniversario episcopi Teoderici intererunt . Factum est hoc in capitulo , xiii kalendas julii , anno ab incarnatione Domini M\\\\u00baC\\\\u00baLXXX\\\\u00baVI\\\\u00ba .   Urbanus episcopus , servus servorum Dei , venerabili fratri Raginaldo episcopo , et dilectis filiis decano et Capitulo Carnotensi , salutem et aposto licam benedictionem . Audivimus et audientes nequivimus non mirari quod laici quidam , in claustro vestro domos jure hereditario possidentes , tales personas plerumque admittunt per quas clericorum quies inhonesto strepitu sepe turbatur , et devotio populi , ne divinis intendat officiis , prepeditur . Joculatoribus quidem , aleatoribus , cauponibus et mulieribus turpibus prescripte domus de consuetudine prava locantur . Volentes igitur communi ecclesie honestati consulere , auctoritate apostolica prohibemus ne domus canonicales ulterius laicis per quos honestati ecclesiastice derogetur , vel gratis dentur , aut etiam sub quacumque occasione locentur . Constituimus etiam de domibus quas laici in claustro jure hereditario tenent , si eas in personis propriis cum honesta familia , exclusis mulieribus turpibus , inhabitare noluerint , ut nonnisi clericis vel personis regularem vitam professis , gratis vel pro pretio , concedantur , si congruum eis pretium voluerint exhibere . Nulli ergo omnino hominum liceat , etc . . . . . . Datum Verone , xii kalendas martii .   Urbanus episcopus , servus servorum Dei , dilectis filiis decano et Capitulo Carnotensi , salutem et apostolicam benedictionem . Ad universalis ecclesie regimen , licet indigni , providentia superne dispositionis assumpti , pro universarum ecclesiarum statu , pastorali tenemur consideratione satagere , et earum quieti , quantum nobis Dominus dederit , sollicite providere . Eapropter , dilecti in Domino filii , vestris justis postulationibus inclinati , et suscepte ministerio servitutis inducti , libertatem et rationabiles consuetudines quibus ecclesia vestra , a quadraginta retro annis , sine interruptione , usa est , et adhuc sine controversia uti dinoscitur , sicut predecessorum nostrorum sunt vobis scriptis autenticis confirmate , ratas habemus , easque futuris temporibus manere decernimus illibatas . Nulli ergo omnino hominum liceat , etc . . . . . . . Datum Verone , x kalendas augusti .   Raginaldus , Dei gracia , Carnotensis episcopus , omnibus ad quos littere iste pervenerint , salutem in Domino . Cum pia fidelium largitione ecclesie Dei aliquid erogatur , perpetuo possidendum debet litteris commendari , ut si posterorum malicia hoc in litem presumpserit revocare , per earum testimonium ipsorum calumpnia retundatur . Hujus igitur rationis intuitu , presenti scripto fecimus annotari quod Avegotus de Sancto-Prisco , miles , ut ipse et antecessores sui animabus suis requiem invenirent , donavit ecclesie Carnotensi omnes decimas quas habebat apud Luceium , tam minutas quam magnas , perpetuo possidendas , ita quod ecclesia reddet ei vel cui post obitum suum assignaverit , in festo sancti Remigii , apud Carnotum , pro omnibus serviciis , x solidos annuatim . Nos autem , ad cujus feodum decime pertinebant , et Gaufridus de Lucco-Plantato , qui eas a nobis tenebat , et a quo idem Avesgotus ipsas possidebat , hanc donationem decimarum ecclesie Carnotensi factam concessimus et ratam habuimus , ita quod si prefatus Avegotus vel heredes ejus adversum nos vel memoratum Gaufridum aliquid commiserint de feodo nostro , nichil super feodum , preter illos x so lidos quos ecclesia solvere tenetur , Avegoto poterimus saisire . Hoc in capitulo Carnotensi , nobis astantibus et laudantibus , concesserunt Hamelina , uxor prefati Avegoti , et Garinus , frater ejus , et Juliana , uxor ejus , et Avegotus , filius Garini . Ceterum post cetera duximus adnotare quod altera pars decimarum predictarum cedet ad sanctissime recordationis Petri , predecessoris nostri , quondam Carnotensis episcopi , altera vero ad Roberti de Blavia , Carnotensis canonici , anniversaria facienda . Quod ut ratum et inconcussum permaneat scripto fecimus adnotari et sigilli nostri testimonio communiri . Actum anno gracie M\\\\u00baC\\\\u00baLXXX\\\\u00baVII\\\\u00ba .   Gaufridus , decanus , et universitas Capituli Carnotensis , et Robertus , comes Drocensis , omnibus ad quos littere iste pervenerint , in Domino salutem . Noverint universi , tam presentes quam futuri , quod inter nos et comitem Robertum , super mansione de Firmecort , cum adjacentibus sibi officinis , de communi assensu limitata , et terra quadam que est inter fossata de Firmecort et Mosterellium , que omnia et pater ejus et iste injuste occupaverat , amodo a nobis tenebit , cum pratis ejusdem ville ad decaniam pertinentibus , in hunc modum pacis convenimus . Predictus siquidem comes , pro pace et amore ecclesie Carnotensis , et ad recognitionem predictorum que omnia a nobis tenet , nichil amplius de nostris occupaturus , annuatim , in festo sancti Remigii , quinquaginta solidos drocensis monete , in prepositura sua , nobis assignavit aut procuratori nostro libere persolvendos ; et tam presens prepositus quam quicumque et quotiens ei in prepositura successe rint fidelitatem nobis faciet de predictis denariis , prefixo termino persolvendis . Quod si prefatus prepositus predictos denarios prefixo termino solvere noluerit vel distulerit , comes vel successor ejus nobis tenebitur ejus supplere defectum . Nos autem , requisiti ab eodem comite , ei concessimus ut in predicta terra que est inter fossata Firmecurie et Mosterellium capellam edificet : prior autem qui pro tempore eidem capelle prefuerit , de justiciis nostris fideliter observandis nobis fidelitatem faciet . Actum est hoc Carnoti , in capitulo ecclesie Carnotensis , anno gratie M\\\\u00baC\\\\u00baLXXX\\\\u00baVII\\\\u00ba , pridie nonas februarii ; Quod ut ratum et firmum inviolabiliter in posterum observetur , presentem paginam sigillorum nostrorum munimine precepimus roborari .'"
      ]
     },
     "execution_count": 7,
     "metadata": {},
     "output_type": "execute_result"
    }
   ],
   "source": [
    "content"
   ]
  },
  {
   "cell_type": "code",
   "execution_count": null,
   "id": "dceaa7be",
   "metadata": {},
   "outputs": [],
   "source": [
    "# pie-extended tag lasla /Users/filipposarra/Database/Chartres_1_Paris_BnF_lat_10094/CONLL/corpus_lat.txt\n",
    "# cette commande execute dans la shell a genere un fichier sur lequel j'ai obtenu des tags"
   ]
  },
  {
   "cell_type": "code",
   "execution_count": null,
   "id": "4f8e8b12",
   "metadata": {},
   "outputs": [],
   "source": []
  }
 ],
 "metadata": {
  "kernelspec": {
   "display_name": "Python 3 (ipykernel)",
   "language": "python",
   "name": "python3"
  },
  "language_info": {
   "codemirror_mode": {
    "name": "ipython",
    "version": 3
   },
   "file_extension": ".py",
   "mimetype": "text/x-python",
   "name": "python",
   "nbconvert_exporter": "python",
   "pygments_lexer": "ipython3",
   "version": "3.7.16"
  }
 },
 "nbformat": 4,
 "nbformat_minor": 5
}
