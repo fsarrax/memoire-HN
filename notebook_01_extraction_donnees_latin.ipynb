{
 "cells": [
  {
   "cell_type": "code",
   "execution_count": null,
   "id": "ba7459ce",
   "metadata": {},
   "outputs": [],
   "source": [
    "import pandas as pd, re"
   ]
  },
  {
   "cell_type": "code",
   "execution_count": null,
   "id": "f9102bd5",
   "metadata": {},
   "outputs": [],
   "source": [
    "data = pd.read_excel(\"//.xlsx\") \n",
    "# Nous n'avons pas le droit de publier les données du stage"
   ]
  },
  {
   "cell_type": "code",
   "execution_count": null,
   "id": "ccdf8bb7",
   "metadata": {},
   "outputs": [],
   "source": [
    "data"
   ]
  },
  {
   "cell_type": "code",
   "execution_count": null,
   "id": "93d4a782",
   "metadata": {},
   "outputs": [],
   "source": [
    "for idx,column in enumerate(data.columns):\n",
    "     print(idx,column)"
   ]
  },
  {
   "cell_type": "code",
   "execution_count": null,
   "id": "5de1ba93",
   "metadata": {},
   "outputs": [],
   "source": [
    "j = ''\n",
    "texte = ''\n",
    "\n",
    "for i in range(len(data['Word_x'])) :\n",
    "    j = data['Word_x'][i]\n",
    "    texte = texte + ' ' + j"
   ]
  },
  {
   "cell_type": "code",
   "execution_count": null,
   "id": "667069a7",
   "metadata": {},
   "outputs": [],
   "source": [
    "texte"
   ]
  },
  {
   "cell_type": "code",
   "execution_count": null,
   "id": "96e32164",
   "metadata": {},
   "outputs": [],
   "source": [
    "corpus_lat = texte.replace('»','')\n",
    "corpus_lat = corpus_lat.replace('«','')\n",
    "corpus_lat"
   ]
  },
  {
   "cell_type": "code",
   "execution_count": null,
   "id": "105129f8",
   "metadata": {},
   "outputs": [],
   "source": [
    "import json\n",
    "import os"
   ]
  },
  {
   "cell_type": "code",
   "execution_count": null,
   "id": "987eec41",
   "metadata": {},
   "outputs": [],
   "source": [
    "with open(os.path.join('corpus_lat.json'), 'w', encoding = 'UTF-8') as fin :\n",
    "    json.dump( corpus_lat, fin)"
   ]
  }
 ],
 "metadata": {
  "kernelspec": {
   "display_name": "Python 3 (ipykernel)",
   "language": "python",
   "name": "python3"
  },
  "language_info": {
   "codemirror_mode": {
    "name": "ipython",
    "version": 3
   },
   "file_extension": ".py",
   "mimetype": "text/x-python",
   "name": "python",
   "nbconvert_exporter": "python",
   "pygments_lexer": "ipython3",
   "version": "3.9.13"
  }
 },
 "nbformat": 4,
 "nbformat_minor": 5
}
