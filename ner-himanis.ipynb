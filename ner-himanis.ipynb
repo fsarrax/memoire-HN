{
 "cells": [
  {
   "cell_type": "code",
   "execution_count": null,
   "metadata": {},
   "outputs": [],
   "source": [
    "# ce code a été écrit par Sergio Torres : https://gitlab.com/magistermilitum/ner_medieval_multilingual/\n",
    "# nous avons juste modifié la partie que concerne la lecture de file"
   ]
  },
  {
   "cell_type": "code",
   "execution_count": null,
   "metadata": {},
   "outputs": [],
   "source": [
    "from flair.models import SequenceTagger\n",
    "from flair.data import Sentence"
   ]
  },
  {
   "cell_type": "code",
   "execution_count": null,
   "metadata": {},
   "outputs": [],
   "source": [
    "PERS_model = SequenceTagger.load('best-model_all_pers_10_03_2022.pt') #PERS models\n",
    "LOC_model  = SequenceTagger.load('best-model_all_loc_10_03_2022.pt') #LOCATIONS models\n",
    "FLAT_model = SequenceTagger.load('best-model_flat_13_03_2022.pt') #FLAT model (not nested)\n",
    "FLAT_L_model  = SequenceTagger.load('best-model_all_b-loc_14_03_2022.pt') #FLAT model (nested locations)"
   ]
  },
  {
   "cell_type": "code",
   "execution_count": null,
   "metadata": {},
   "outputs": [],
   "source": [
    "corpus_himanis = []\n",
    "with open(\"primum_corpum_himanis.txt\", \"r\", encoding=\"utf-8\") as fin:\n",
    "    for act in fin:\n",
    "        corpus_himanis.append(act)"
   ]
  },
  {
   "cell_type": "code",
   "execution_count": null,
   "metadata": {},
   "outputs": [],
   "source": [
    "len(corpus_himanis)"
   ]
  },
  {
   "cell_type": "code",
   "execution_count": null,
   "metadata": {},
   "outputs": [],
   "source": [
    "texte = str(corpus_himanis)"
   ]
  },
  {
   "cell_type": "code",
   "execution_count": null,
   "metadata": {},
   "outputs": [],
   "source": [
    "test_sent=texte\n",
    "\n",
    "PERS_sentence= Sentence(test_sent)\n",
    "LOC_sentence= Sentence(test_sent)\n",
    "FLAT_sentence=Sentence(test_sent)\n",
    "FLAT_L_sentence=Sentence(test_sent)\n",
    "\n",
    "PERS_model.predict(PERS_sentence)\n",
    "LOC_model.predict(LOC_sentence)\n",
    "FLAT_model.predict(FLAT_sentence)\n",
    "FLAT_L_model.predict(FLAT_L_sentence)"
   ]
  },
  {
   "cell_type": "code",
   "execution_count": null,
   "metadata": {},
   "outputs": [],
   "source": [
    "def models2conll(args=[PERS_sentence, LOC_sentence, FLAT_sentence, FLAT_L_sentence]):\n",
    "    final_result=[]\n",
    "    for x in args:\n",
    "      n=str(x).split('Token-Labels: \"')[1][:-2]; text=[]; index=[]; count_index=1\n",
    "      for i, x in enumerate(n.split()):\n",
    "        if x.startswith(\"<\"): index.append([i-count_index, x[1:-1]]); count_index+=1\n",
    "        else: text.append(x)\n",
    "\n",
    "      conll=[\"O\"]*len(text)\n",
    "      for x in index: conll[x[0]]=x[1]\n",
    "      \n",
    "      final_result.append(conll)\n",
    "      \n",
    "    return list(zip(*[text]+final_result))\n",
    "\n",
    "print(*models2conll(), sep=\"\\n\") #token, PERS, LOC, Nested, Flat-Nested"
   ]
  },
  {
   "cell_type": "code",
   "execution_count": null,
   "metadata": {},
   "outputs": [],
   "source": [
    "print(\"\\LIST OF PERS ENTITIES\\n\")\n",
    "for entity in PERS_sentence.get_spans('ner'):\n",
    "    print(entity)\n",
    "print(\"\\nLIST OF LOC ENTITIES\\n\")\n",
    "for entity in LOC_sentence.get_spans('ner'):\n",
    "    print(entity)"
   ]
  },
  {
   "cell_type": "code",
   "execution_count": null,
   "metadata": {},
   "outputs": [],
   "source": []
  }
 ],
 "metadata": {
  "kernelspec": {
   "display_name": "himanisner",
   "language": "python",
   "name": "python3"
  },
  "language_info": {
   "codemirror_mode": {
    "name": "ipython",
    "version": 3
   },
   "file_extension": ".py",
   "mimetype": "text/x-python",
   "name": "python",
   "nbconvert_exporter": "python",
   "pygments_lexer": "ipython3",
   "version": "3.9.13"
  },
  "orig_nbformat": 4
 },
 "nbformat": 4,
 "nbformat_minor": 2
}
