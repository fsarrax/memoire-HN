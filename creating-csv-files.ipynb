{
 "cells": [
  {
   "cell_type": "code",
   "execution_count": 1,
   "id": "d468cfa8-fdf1-4aa0-bbd7-7df9a53b4894",
   "metadata": {
    "tags": []
   },
   "outputs": [],
   "source": [
    "from bs4 import BeautifulSoup\n",
    "import os\n",
    "import csv"
   ]
  },
  {
   "cell_type": "code",
   "execution_count": 2,
   "id": "4a48890e-daa0-4ba0-a22d-4c409f4e9859",
   "metadata": {
    "tags": []
   },
   "outputs": [],
   "source": [
    "# Chemin du dossier contenant les fichiers XML\n",
    "chemin_dossier = \"export_inception_place_pers_XML\"\n",
    "\n",
    "# Liste pour stocker les valeurs\n",
    "valeurs = []"
   ]
  },
  {
   "cell_type": "code",
   "execution_count": 3,
   "id": "9c0e5249-eaa2-49d5-ae55-2d3e504f15e1",
   "metadata": {
    "tags": []
   },
   "outputs": [],
   "source": [
    "# Parcourir tous les fichiers du dossier\n",
    "for nom_fichier in os.listdir(chemin_dossier):\n",
    "    if nom_fichier.endswith(\".xml\"):\n",
    "        chemin_fichier = os.path.join(chemin_dossier, nom_fichier)\n",
    "        \n",
    "        # Lire le contenu du fichier XML\n",
    "        with open(chemin_fichier, 'r') as fichier:\n",
    "            contenu = fichier.read()\n",
    "        \n",
    "        # Utilisation de BeautifulSoup pour extraire les balises NamedEntity\n",
    "        soup = BeautifulSoup(contenu, 'xml')\n",
    "        named_entities = soup.find_all('de.tudarmstadt.ukp.dkpro.core.api.ner.type.NamedEntity')\n",
    "        \n",
    "        # Parcourir les balises NamedEntity et ajouter les valeurs à la liste\n",
    "        for named_entity in named_entities:\n",
    "            identifier = named_entity['identifier']\n",
    "            value = named_entity['value']\n",
    "            content = named_entity.text.strip()\n",
    "            if identifier != 'null':\n",
    "                valeurs.append({\n",
    "                    'fichier': nom_fichier,\n",
    "                    'identifier': identifier,\n",
    "                    'value': value,\n",
    "                    'content': content\n",
    "                })"
   ]
  },
  {
   "cell_type": "code",
   "execution_count": 4,
   "id": "17f5dfb1-5f3f-4cb4-9e0c-4a02886f19b7",
   "metadata": {
    "tags": []
   },
   "outputs": [
    {
     "data": {
      "text/plain": [
       "list"
      ]
     },
     "execution_count": 4,
     "metadata": {},
     "output_type": "execute_result"
    }
   ],
   "source": [
    "type(valeurs)"
   ]
  },
  {
   "cell_type": "code",
   "execution_count": 5,
   "id": "0d355d29-6aec-4354-9bc1-52f371f2e2c2",
   "metadata": {
    "tags": []
   },
   "outputs": [
    {
     "data": {
      "text/plain": [
       "1671"
      ]
     },
     "execution_count": 5,
     "metadata": {},
     "output_type": "execute_result"
    }
   ],
   "source": [
    "len(valeurs)"
   ]
  },
  {
   "cell_type": "code",
   "execution_count": 6,
   "id": "7e31963e-0503-43b4-afef-b371c5ee0d46",
   "metadata": {
    "tags": []
   },
   "outputs": [],
   "source": [
    "# Trier les valeurs par ordre alphabétique des fichiers\n",
    "valeurs = sorted(valeurs, key=lambda x: x['fichier'])"
   ]
  },
  {
   "cell_type": "code",
   "execution_count": 7,
   "id": "c587ccb6-f725-4ffe-afd1-1a54101a1282",
   "metadata": {
    "tags": []
   },
   "outputs": [
    {
     "data": {
      "text/plain": [
       "[{'fichier': 'coNLL2002_Paris, Archives Nationales, JJ037, Acte 1 on folio 001r_clean.xml',\n",
       "  'identifier': 'https://heurist.huma-num.fr/heurist/?db=stutzmann_himanis/#95636',\n",
       "  'value': 'LOC',\n",
       "  'content': 'Casulis'},\n",
       " {'fichier': 'coNLL2002_Paris, Archives Nationales, JJ037, Acte 1 on folio 001r_clean.xml',\n",
       "  'identifier': 'https://heurist.huma-num.fr/heurist/?db=stutzmann_himanis/#10167...',\n",
       "  'value': 'LOC',\n",
       "  'content': 'Uscrayo,'},\n",
       " {'fichier': 'coNLL2002_Paris, Archives Nationales, JJ037, Acte 1 on folio 001r_clean.xml',\n",
       "  'identifier': 'https://heurist.huma-num.fr/heurist/?db=stutzmann_himanis/#85429',\n",
       "  'value': 'PERS',\n",
       "  'content': 'Philippus,'},\n",
       " {'fichier': 'coNLL2002_Paris, Archives Nationales, JJ037, Acte 1 on folio 001r_clean.xml',\n",
       "  'identifier': 'https://heurist.huma-num.fr/heurist/?db=stutzmann_himanis/#96970',\n",
       "  'value': 'LOC',\n",
       "  'content': 'Francorum'},\n",
       " {'fichier': 'coNLL2002_Paris, Archives Nationales, JJ037, Acte 1 on folio 001r_clean.xml',\n",
       "  'identifier': 'https://heurist.huma-num.fr/heurist/?db=stutzmann_himanis/#10226...',\n",
       "  'value': 'LOC',\n",
       "  'content': 'Brterensi'}]"
      ]
     },
     "execution_count": 7,
     "metadata": {},
     "output_type": "execute_result"
    }
   ],
   "source": [
    "valeurs[0:5]"
   ]
  },
  {
   "cell_type": "code",
   "execution_count": 8,
   "id": "0771e435-20e0-4270-b3d2-2bd2af2e51e7",
   "metadata": {
    "tags": []
   },
   "outputs": [
    {
     "data": {
      "text/plain": [
       "1671"
      ]
     },
     "execution_count": 8,
     "metadata": {},
     "output_type": "execute_result"
    }
   ],
   "source": [
    "len(valeurs)"
   ]
  },
  {
   "cell_type": "code",
   "execution_count": 9,
   "id": "99ff083c-e1f1-40b6-81a5-e754f8a333bd",
   "metadata": {
    "tags": []
   },
   "outputs": [],
   "source": [
    "# on fait la même chose mais on separe les per du loc"
   ]
  },
  {
   "cell_type": "code",
   "execution_count": 10,
   "id": "dcaeb80f-4674-43dd-840b-dcabadac8a24",
   "metadata": {
    "tags": []
   },
   "outputs": [],
   "source": [
    "# Listes pour stocker les valeurs 'per' et 'loc'\n",
    "valeurs_per = []\n",
    "valeurs_loc = []\n",
    "\n",
    "# Parcourir tous les fichiers du dossier\n",
    "for nom_fichier in os.listdir(chemin_dossier):\n",
    "    if nom_fichier.endswith(\".xml\"):\n",
    "        chemin_fichier = os.path.join(chemin_dossier, nom_fichier)\n",
    "        \n",
    "        # Lire le contenu du fichier XML\n",
    "        with open(chemin_fichier, 'r') as fichier:\n",
    "            contenu = fichier.read()\n",
    "        \n",
    "        # Utilisation de BeautifulSoup pour extraire les balises NamedEntity\n",
    "        soup = BeautifulSoup(contenu, 'xml')\n",
    "        named_entities = soup.find_all('de.tudarmstadt.ukp.dkpro.core.api.ner.type.NamedEntity')\n",
    "        \n",
    "        # Parcourir les balises NamedEntity et ajouter les valeurs à la liste correspondante\n",
    "        for named_entity in named_entities:\n",
    "            identifier = named_entity['identifier']\n",
    "            value = named_entity['value']\n",
    "            content = named_entity.text.strip()\n",
    "            \n",
    "            if value == 'PERS' and identifier != 'null' or value == 'PER' and identifier != 'null':\n",
    "                valeurs_per.append({\n",
    "                    'fichier': nom_fichier,\n",
    "                    'identifier': identifier,\n",
    "                    'value': value,\n",
    "                    'content': content\n",
    "                })\n",
    "            elif value == 'LOC' and identifier != 'null':\n",
    "                valeurs_loc.append({\n",
    "                    'fichier': nom_fichier,\n",
    "                    'identifier': identifier,\n",
    "                    'value': value,\n",
    "                    'content': content\n",
    "                })"
   ]
  },
  {
   "cell_type": "code",
   "execution_count": 11,
   "id": "d0a73be7-f8a1-4df0-a0f2-db689f87c825",
   "metadata": {
    "tags": []
   },
   "outputs": [
    {
     "data": {
      "text/plain": [
       "619"
      ]
     },
     "execution_count": 11,
     "metadata": {},
     "output_type": "execute_result"
    }
   ],
   "source": [
    "len(valeurs_per)"
   ]
  },
  {
   "cell_type": "code",
   "execution_count": 12,
   "id": "efc54e07-eeb1-49a5-a929-330e0fd5ccd3",
   "metadata": {
    "tags": []
   },
   "outputs": [
    {
     "data": {
      "text/plain": [
       "1052"
      ]
     },
     "execution_count": 12,
     "metadata": {},
     "output_type": "execute_result"
    }
   ],
   "source": [
    "len(valeurs_loc)"
   ]
  },
  {
   "cell_type": "code",
   "execution_count": 13,
   "id": "6cb514bf-b337-48d7-80c4-0a16423e39c8",
   "metadata": {
    "tags": []
   },
   "outputs": [],
   "source": [
    "valeurs_per = sorted(valeurs_per, key=lambda x: x['fichier'])\n",
    "valeurs_loc = sorted(valeurs_loc, key=lambda x: x['fichier'])"
   ]
  },
  {
   "cell_type": "code",
   "execution_count": 14,
   "id": "0aec4141-2a7d-4668-b2f3-108fa655c272",
   "metadata": {
    "tags": []
   },
   "outputs": [
    {
     "data": {
      "text/plain": [
       "619"
      ]
     },
     "execution_count": 14,
     "metadata": {},
     "output_type": "execute_result"
    }
   ],
   "source": [
    "len(valeurs_per)"
   ]
  },
  {
   "cell_type": "code",
   "execution_count": 15,
   "id": "39eb27ad-fd91-4f2b-b08d-d3fc332cf9a5",
   "metadata": {
    "tags": []
   },
   "outputs": [
    {
     "data": {
      "text/plain": [
       "1052"
      ]
     },
     "execution_count": 15,
     "metadata": {},
     "output_type": "execute_result"
    }
   ],
   "source": [
    "len(valeurs_loc)"
   ]
  },
  {
   "cell_type": "code",
   "execution_count": 16,
   "id": "0359d6fb-f829-4b0d-8742-26d728090b78",
   "metadata": {
    "tags": []
   },
   "outputs": [],
   "source": [
    "# Écrire les valeurs 'per' dans un fichier CSV\n",
    "with open('per.csv', 'w', newline='') as fichier_per:\n",
    "    writer_per = csv.DictWriter(fichier_per, fieldnames=['fichier', 'identifier', 'value', 'content'])\n",
    "    writer_per.writeheader()\n",
    "    writer_per.writerows(valeurs_per)\n",
    "\n",
    "# Écrire les valeurs 'loc' dans un fichier CSV\n",
    "with open('loc.csv', 'w', newline='') as fichier_loc:\n",
    "    writer_loc = csv.DictWriter(fichier_loc, fieldnames=['fichier', 'identifier', 'value', 'content'])\n",
    "    writer_loc.writeheader()\n",
    "    writer_loc.writerows(valeurs_loc)"
   ]
  },
  {
   "cell_type": "code",
   "execution_count": 17,
   "id": "48c15d98-016d-42d9-af0f-3618753831a3",
   "metadata": {
    "tags": []
   },
   "outputs": [],
   "source": [
    "# Écrire les valeurs dans un fichier CSV\n",
    "with open('valeurs.csv', 'w', newline='') as fichier:\n",
    "    writer = csv.DictWriter(fichier, fieldnames=['fichier', 'identifier', 'value', 'content'])\n",
    "    writer.writeheader()\n",
    "    writer.writerows(valeurs)"
   ]
  },
  {
   "cell_type": "code",
   "execution_count": null,
   "id": "0c47113d-dbd9-4bb2-96a1-57556b17bb83",
   "metadata": {},
   "outputs": [],
   "source": []
  }
 ],
 "metadata": {
  "kernelspec": {
   "display_name": "Python 3 (ipykernel)",
   "language": "python",
   "name": "python3"
  },
  "language_info": {
   "codemirror_mode": {
    "name": "ipython",
    "version": 3
   },
   "file_extension": ".py",
   "mimetype": "text/x-python",
   "name": "python",
   "nbconvert_exporter": "python",
   "pygments_lexer": "ipython3",
   "version": "3.10.9"
  }
 },
 "nbformat": 4,
 "nbformat_minor": 5
}
