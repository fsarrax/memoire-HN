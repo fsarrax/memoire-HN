{
 "cells": [
  {
   "cell_type": "code",
   "execution_count": null,
   "id": "2f6ef373",
   "metadata": {},
   "outputs": [],
   "source": [
    "# ce notebook est une adaptation du notebook : https://github.com/explosion/projects/blob/master/nel-emerson/scripts/notebook_video.ipynb"
   ]
  },
  {
   "cell_type": "code",
   "execution_count": null,
   "id": "89a5077c-a7d3-43d1-8daa-52191393ee3a",
   "metadata": {
    "tags": []
   },
   "outputs": [],
   "source": [
    "import csv\n",
    "from pathlib import Path\n",
    "import spacy\n",
    "from spacy.kb import KnowledgeBase\n",
    "import random\n",
    "from spacy.util import minibatch, compounding\n",
    "import json"
   ]
  },
  {
   "cell_type": "code",
   "execution_count": null,
   "id": "08dbbf86-fbad-4100-b1dc-22370b2827af",
   "metadata": {
    "tags": []
   },
   "outputs": [],
   "source": [
    "def load_entities():\n",
    "    entities_loc = Path.cwd()/\"loc-csv.csv\" \n",
    "\n",
    "    actes = dict()\n",
    "    contents = dict()\n",
    "   \n",
    "    with entities_loc.open(\"r\", encoding=\"utf8\") as csvfile:\n",
    "        csvreader = csv.reader(csvfile, delimiter=\",\")\n",
    "        for row in csvreader:\n",
    "            acte = row[0]\n",
    "            ide = row[1]\n",
    "            value = row[2]\n",
    "            content = row[3]\n",
    "           \n",
    "            actes[ide] = acte\n",
    "            contents[ide] = content\n",
    "           \n",
    "    return actes, contents\n",
    "    "
   ]
  },
  {
   "cell_type": "code",
   "execution_count": null,
   "id": "70a2ca2b-442c-49b8-b51e-fe66534ea375",
   "metadata": {
    "tags": []
   },
   "outputs": [],
   "source": [
    "nlp = spacy.load(\"en_core_web_lg\")"
   ]
  },
  {
   "cell_type": "code",
   "execution_count": null,
   "id": "ec1f252e-cd46-4c08-aa31-fe01f7c074c2",
   "metadata": {
    "tags": []
   },
   "outputs": [],
   "source": [
    "text = \"Amor vincit omnia.\"\n",
    "doc = nlp(text)"
   ]
  },
  {
   "cell_type": "code",
   "execution_count": null,
   "id": "71850e44-c048-4502-b4cd-c4138807b518",
   "metadata": {
    "tags": []
   },
   "outputs": [],
   "source": [
    "actes_dict, contents_dict = load_entities()\n",
    "for ID in actes_dict.keys():\n",
    "    print(f\"{ID}, entity={contents_dict[ID]}, acte={actes_dict[ID]}\")"
   ]
  },
  {
   "cell_type": "code",
   "execution_count": null,
   "id": "a0182fb9-1834-49c8-8ef0-9f0c74f8b761",
   "metadata": {
    "tags": []
   },
   "outputs": [],
   "source": [
    "kb = KnowledgeBase(vocab=nlp.vocab, entity_vector_length=300)"
   ]
  },
  {
   "cell_type": "code",
   "execution_count": null,
   "id": "967822b5-9f21-4c2b-8e1a-1fd579c1ae6c",
   "metadata": {
    "tags": []
   },
   "outputs": [],
   "source": [
    "for ide, content in contents_dict.items():\n",
    "    content_doc = nlp(content)\n",
    "    content_enc = content_doc.vector\n",
    "    kb.add_entity(entity=ide, entity_vector=content_enc, freq=342)   "
   ]
  },
  {
   "cell_type": "code",
   "execution_count": null,
   "id": "59139208-4393-411d-b6e3-63d705af6281",
   "metadata": {
    "tags": []
   },
   "outputs": [],
   "source": [
    "for ide, content in contents_dict.items():\n",
    "    kb.add_alias(alias=content, entities=[ide], probabilities=[1])  "
   ]
  },
  {
   "cell_type": "code",
   "execution_count": null,
   "id": "727b7b9b-e14a-46ac-81e4-3475f6aa1762",
   "metadata": {
    "tags": []
   },
   "outputs": [],
   "source": [
    "print(f\"Candidates for 'casulis': {[c.entity_ for c in kb.get_candidates('Casulis')]}\")"
   ]
  },
  {
   "cell_type": "code",
   "execution_count": null,
   "id": "9ff59780-096b-40ea-ba29-9ac18e61e9e8",
   "metadata": {
    "tags": []
   },
   "outputs": [],
   "source": [
    "print(f\"Candidates for 'bitterensis': {[c.entity_ for c in kb.get_candidates('Bterensis')]}\")"
   ]
  },
  {
   "cell_type": "code",
   "execution_count": null,
   "id": "46afb01a-6db5-4de3-a699-fd18e1f6101d",
   "metadata": {
    "tags": []
   },
   "outputs": [],
   "source": [
    "all_entities = kb.get_entity_strings()"
   ]
  },
  {
   "cell_type": "code",
   "execution_count": null,
   "id": "70dbb316-b560-48c7-833f-05ba75390435",
   "metadata": {
    "tags": []
   },
   "outputs": [],
   "source": [
    "len(all_entities)"
   ]
  },
  {
   "cell_type": "code",
   "execution_count": null,
   "id": "b4facb9a-9f9a-4703-9a89-97d2e9588e6c",
   "metadata": {
    "tags": []
   },
   "outputs": [],
   "source": [
    "print(f\"Candidates for 'turonensium': {[c.entity_ for c in kb.get_candidates('turonensium')]}\")"
   ]
  },
  {
   "cell_type": "code",
   "execution_count": null,
   "id": "dbe85f50-c017-46ee-9b3d-a74467384912",
   "metadata": {
    "tags": []
   },
   "outputs": [],
   "source": [
    "json_loc = Path.cwd() / \"text.jsonl\" # distributed alongside this notebook\n",
    "\n",
    "with json_loc.open(\"r\", encoding=\"utf8\") as jsonfile:\n",
    "    line = jsonfile.readline()\n",
    "    \n",
    "print(line)   # print just the first line"
   ]
  },
  {
   "cell_type": "code",
   "execution_count": null,
   "id": "c816f926-1c1a-44d8-8aad-fb7be558ccd4",
   "metadata": {
    "tags": []
   },
   "outputs": [],
   "source": [
    "dataset = []\n",
    "\n",
    "with json_loc.open(\"r\", encoding=\"utf8\") as file:\n",
    "    for line in file:\n",
    "        data = json.loads(line)\n",
    "        text = data[\"text\"]\n",
    "        links = {}\n",
    "        for i, span in enumerate(data[\"spans\"]):\n",
    "            start = span[\"start\"]\n",
    "            end = span[\"end\"]\n",
    "            QID = data[\"accept\"][i]\n",
    "            links[(start, end)] = {QID: 1.0}\n",
    "\n",
    "        if links:\n",
    "            dataset.append((text, {\"links\": links}))"
   ]
  },
  {
   "cell_type": "code",
   "execution_count": null,
   "id": "89452720-8057-46c7-93e6-480c2f64c865",
   "metadata": {
    "tags": []
   },
   "outputs": [],
   "source": [
    "dataset[0]"
   ]
  },
  {
   "cell_type": "code",
   "execution_count": null,
   "id": "38996584-6e37-4613-bede-8024da6228d0",
   "metadata": {
    "tags": []
   },
   "outputs": [],
   "source": [
    "gold_ids = []\n",
    "for text, annot in dataset:\n",
    "    for span, links_dict in annot[\"links\"].items():\n",
    "        for link, value in links_dict.items():\n",
    "            if value:\n",
    "                gold_ids.append(link)\n",
    "\n",
    "from collections import Counter\n",
    "print(Counter(gold_ids))"
   ]
  },
  {
   "cell_type": "code",
   "execution_count": null,
   "id": "43e22072-6ece-45ce-963b-8015c57256ff",
   "metadata": {
    "tags": []
   },
   "outputs": [],
   "source": [
    "train_dataset = []\n",
    "test_dataset = []\n",
    "for QID in ide:#ici nous avons changé car nous n'avons pas d'alias\n",
    "    indices = [i for i, j in enumerate(gold_ids) if j == QID]\n",
    "    train_dataset.extend(dataset[index] for index in indices[0:8])  \n",
    "    test_dataset.extend(dataset[index] for index in indices[8:10])\n",
    "    \n",
    "random.shuffle(train_dataset)\n",
    "random.shuffle(test_dataset)"
   ]
  },
  {
   "cell_type": "code",
   "execution_count": null,
   "id": "08d43abb-b475-407f-8c6a-6af5f9a09cd5",
   "metadata": {
    "tags": []
   },
   "outputs": [],
   "source": [
    "TRAIN_DOCS = []\n",
    "for text, annotation in train_dataset:\n",
    "    doc = nlp(text)     \n",
    "    TRAIN_DOCS.append((doc, annotation))"
   ]
  },
  {
   "cell_type": "code",
   "execution_count": null,
   "id": "50558438-d6cb-4c0b-aa55-1d32ff71e18b",
   "metadata": {
    "tags": []
   },
   "outputs": [],
   "source": [
    "entity_linker = nlp.create_pipe(\"entity_linker\", config={\"incl_prior\": False})\n",
    "entity_linker.set_kb(kb)\n",
    "nlp.add_pipe(entity_linker, last=True)"
   ]
  },
  {
   "cell_type": "code",
   "execution_count": null,
   "id": "18570b81-abc6-4c02-8c3f-a62f2fb6a4ad",
   "metadata": {
    "tags": []
   },
   "outputs": [],
   "source": [
    "other_pipes = [pipe for pipe in nlp.pipe_names if pipe != \"entity_linker\"]\n",
    "with nlp.disable_pipes(*other_pipes):  \n",
    "    optimizer = nlp.begin_training()\n",
    "    for itn in range(500):   \n",
    "        random.shuffle(TRAIN_DOCS)\n",
    "        batches = minibatch(TRAIN_DOCS, size=compounding(4.0, 32.0, 1.001))  \n",
    "        losses = {}\n",
    "        for batch in batches:\n",
    "            texts, annotations = zip(*batch)\n",
    "            nlp.update(\n",
    "                texts,  \n",
    "                annotations,   \n",
    "                drop=0.2,      \n",
    "                losses=losses,\n",
    "                sgd=optimizer,\n",
    "            )\n",
    "        if itn % 50 == 0:\n",
    "            print(itn, \"Losses\", losses)   \n",
    "print(itn, \"Losses\", losses)"
   ]
  },
  {
   "cell_type": "code",
   "execution_count": null,
   "id": "7f726a21-6480-42fd-9f90-e14396740f2a",
   "metadata": {
    "tags": []
   },
   "outputs": [],
   "source": [
    "text = \"Amor vincit omnia.\"\n",
    "doc = nlp(text)\n",
    "for ent in doc.ents:\n",
    "    print(ent.text, ent.label_, ent.kb_id_)"
   ]
  },
  {
   "cell_type": "code",
   "execution_count": null,
   "id": "41de570e-c4b1-4542-a7f8-35393bccc524",
   "metadata": {
    "tags": []
   },
   "outputs": [],
   "source": [
    "for text, true_annot in test_dataset:\n",
    "    print(text)\n",
    "    print(f\"Gold annotation: {true_annot}\")\n",
    "    doc = nlp(text)  \n",
    "    for ent in doc.ents:\n",
    "        if ent.text == \"Francorum\":\n",
    "            print(f\"Prediction: {ent.text}, {ent.label_}, {ent.kb_id_}\")\n",
    "    print()"
   ]
  },
  {
   "cell_type": "code",
   "execution_count": null,
   "id": "ad99284a-ecbe-4462-949e-2fcd0ea7b33e",
   "metadata": {},
   "outputs": [],
   "source": []
  }
 ],
 "metadata": {
  "kernelspec": {
   "display_name": "Python 3 (ipykernel)",
   "language": "python",
   "name": "python3"
  },
  "language_info": {
   "codemirror_mode": {
    "name": "ipython",
    "version": 3
   },
   "file_extension": ".py",
   "mimetype": "text/x-python",
   "name": "python",
   "nbconvert_exporter": "python",
   "pygments_lexer": "ipython3",
   "version": "3.8.17"
  }
 },
 "nbformat": 4,
 "nbformat_minor": 5
}
