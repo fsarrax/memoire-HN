{
 "cells": [
  {
   "cell_type": "code",
   "execution_count": null,
   "id": "668db063",
   "metadata": {},
   "outputs": [],
   "source": [
    "import json\n",
    "import os\n",
    "import re\n",
    "import cltk "
   ]
  },
  {
   "cell_type": "code",
   "execution_count": null,
   "id": "80b8c600",
   "metadata": {},
   "outputs": [],
   "source": [
    "from cltk.tokenizers.lat.lat import LatinWordTokenizer\n",
    "from cltk.tokenizers.lat.lat import LatinPunktSentenceTokenizer # ponctuation\n",
    "from cltk.tokenizers.lat.lat import LatinLanguageVars\n",
    "from cltk.ner.ner import tag_ner\n",
    "from cltk.ner.processes import LatinNERProcess\n",
    "from cltk.utils import CLTK_DATA_DIR\n",
    "from cltk.ner.spacy_ner import CustomTokenizer\n",
    "from cltk.ner.spacy_ner import spacy_tag_ner\n",
    "from cltk import NLP"
   ]
  },
  {
   "cell_type": "code",
   "execution_count": null,
   "id": "1d37d780",
   "metadata": {},
   "outputs": [],
   "source": [
    "with open(os.path.join(\"corpus_lat.json\"), \"r\", encoding = 'utf8') as f:\n",
    "    data = json.load(f)"
   ]
  },
  {
   "cell_type": "code",
   "execution_count": null,
   "id": "b187153e",
   "metadata": {},
   "outputs": [],
   "source": [
    "data"
   ]
  },
  {
   "cell_type": "code",
   "execution_count": null,
   "id": "c41531ee",
   "metadata": {},
   "outputs": [],
   "source": [
    "cltk_nlp = NLP(language='lat') "
   ]
  },
  {
   "cell_type": "code",
   "execution_count": null,
   "id": "5fc72630",
   "metadata": {},
   "outputs": [],
   "source": [
    "print(cltk_nlp.pipeline.processes)"
   ]
  },
  {
   "cell_type": "code",
   "execution_count": null,
   "id": "769ccb63",
   "metadata": {},
   "outputs": [],
   "source": [
    "cltk_doc = cltk_nlp.analyze(data)"
   ]
  },
  {
   "cell_type": "code",
   "execution_count": null,
   "id": "6521ddf5",
   "metadata": {},
   "outputs": [],
   "source": [
    "doc_cltk = cltk_nlp(data)"
   ]
  },
  {
   "cell_type": "code",
   "execution_count": null,
   "id": "996b052d",
   "metadata": {},
   "outputs": [],
   "source": [
    "cltk_doc.tokens[:20]"
   ]
  },
  {
   "cell_type": "code",
   "execution_count": null,
   "id": "9f0ba316",
   "metadata": {},
   "outputs": [],
   "source": [
    "cltk_doc.lemmata[:20]"
   ]
  },
  {
   "cell_type": "code",
   "execution_count": null,
   "id": "381b758b",
   "metadata": {
    "scrolled": true
   },
   "outputs": [],
   "source": [
    "cltk_doc.pos[:20]"
   ]
  },
  {
   "cell_type": "code",
   "execution_count": null,
   "id": "944b5431",
   "metadata": {},
   "outputs": [],
   "source": [
    "doc_cltk.stanza_doc # doc"
   ]
  },
  {
   "cell_type": "code",
   "execution_count": null,
   "id": "5744dcd3",
   "metadata": {
    "scrolled": true
   },
   "outputs": [],
   "source": [
    "doc_cltk.tokens"
   ]
  },
  {
   "cell_type": "code",
   "execution_count": null,
   "id": "1e3ad65a",
   "metadata": {},
   "outputs": [],
   "source": [
    "from cltk.core.data_types import Doc, Word\n",
    "from cltk.languages.example_texts import get_example_text\n",
    "from boltons.strutils import split_punct_ws\n",
    "tokens = [Word(string=token) for token in split_punct_ws(get_example_text(\"lat\"))]\n",
    "a_process = LatinNERProcess()\n",
    "output_doc = a_process.run(Doc(raw=get_example_text(\"lat\"), words=tokens))"
   ]
  }
 ],
 "metadata": {
  "kernelspec": {
   "display_name": "Python 3 (ipykernel)",
   "language": "python",
   "name": "python3"
  },
  "language_info": {
   "codemirror_mode": {
    "name": "ipython",
    "version": 3
   },
   "file_extension": ".py",
   "mimetype": "text/x-python",
   "name": "python",
   "nbconvert_exporter": "python",
   "pygments_lexer": "ipython3",
   "version": "3.7.15"
  }
 },
 "nbformat": 4,
 "nbformat_minor": 5
}
